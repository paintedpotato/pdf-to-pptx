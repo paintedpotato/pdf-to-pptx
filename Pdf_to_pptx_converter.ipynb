{
  "nbformat": 4,
  "nbformat_minor": 0,
  "metadata": {
    "colab": {
      "provenance": [],
      "authorship_tag": "ABX9TyOopFfYhhXb9AeOlj1OVAC3",
      "include_colab_link": true
    },
    "kernelspec": {
      "name": "python3",
      "display_name": "Python 3"
    },
    "language_info": {
      "name": "python"
    }
  },
  "cells": [
    {
      "cell_type": "markdown",
      "metadata": {
        "id": "view-in-github",
        "colab_type": "text"
      },
      "source": [
        "<a href=\"https://colab.research.google.com/github/paintedpotato/pdf-to-pptx/blob/main/Pdf_to_pptx_converter.ipynb\" target=\"_parent\"><img src=\"https://colab.research.google.com/assets/colab-badge.svg\" alt=\"Open In Colab\"/></a>"
      ]
    },
    {
      "cell_type": "code",
      "execution_count": 1,
      "metadata": {
        "colab": {
          "base_uri": "https://localhost:8080/"
        },
        "id": "qXjF859zkdns",
        "outputId": "c46eeece-97f3-4c03-a138-4763d5479d3e"
      },
      "outputs": [
        {
          "output_type": "stream",
          "name": "stdout",
          "text": [
            "Collecting PyPDF2\n",
            "  Downloading pypdf2-3.0.1-py3-none-any.whl.metadata (6.8 kB)\n",
            "Collecting python-pptx\n",
            "  Downloading python_pptx-1.0.2-py3-none-any.whl.metadata (2.5 kB)\n",
            "Requirement already satisfied: Pillow>=3.3.2 in /usr/local/lib/python3.10/dist-packages (from python-pptx) (10.4.0)\n",
            "Collecting XlsxWriter>=0.5.7 (from python-pptx)\n",
            "  Downloading XlsxWriter-3.2.0-py3-none-any.whl.metadata (2.6 kB)\n",
            "Requirement already satisfied: lxml>=3.1.0 in /usr/local/lib/python3.10/dist-packages (from python-pptx) (4.9.4)\n",
            "Requirement already satisfied: typing-extensions>=4.9.0 in /usr/local/lib/python3.10/dist-packages (from python-pptx) (4.12.2)\n",
            "Downloading pypdf2-3.0.1-py3-none-any.whl (232 kB)\n",
            "\u001b[2K   \u001b[90m━━━━━━━━━━━━━━━━━━━━━━━━━━━━━━━━━━━━━━━━\u001b[0m \u001b[32m232.6/232.6 kB\u001b[0m \u001b[31m4.8 MB/s\u001b[0m eta \u001b[36m0:00:00\u001b[0m\n",
            "\u001b[?25hDownloading python_pptx-1.0.2-py3-none-any.whl (472 kB)\n",
            "\u001b[2K   \u001b[90m━━━━━━━━━━━━━━━━━━━━━━━━━━━━━━━━━━━━━━━━\u001b[0m \u001b[32m472.8/472.8 kB\u001b[0m \u001b[31m7.4 MB/s\u001b[0m eta \u001b[36m0:00:00\u001b[0m\n",
            "\u001b[?25hDownloading XlsxWriter-3.2.0-py3-none-any.whl (159 kB)\n",
            "\u001b[2K   \u001b[90m━━━━━━━━━━━━━━━━━━━━━━━━━━━━━━━━━━━━━━━━\u001b[0m \u001b[32m159.9/159.9 kB\u001b[0m \u001b[31m7.0 MB/s\u001b[0m eta \u001b[36m0:00:00\u001b[0m\n",
            "\u001b[?25hInstalling collected packages: XlsxWriter, PyPDF2, python-pptx\n",
            "Successfully installed PyPDF2-3.0.1 XlsxWriter-3.2.0 python-pptx-1.0.2\n"
          ]
        }
      ],
      "source": [
        "!pip install PyPDF2 python-pptx"
      ]
    },
    {
      "cell_type": "code",
      "source": [
        "import re\n",
        "import logging\n",
        "import PyPDF2\n",
        "from pptx import Presentation\n",
        "from pptx.util import Inches, Pt\n",
        "from pptx.enum.text import PP_ALIGN\n",
        "from pptx.dml.color import RGBColor\n",
        "\n",
        "# Setup logging\n",
        "logging.basicConfig(level=logging.DEBUG, format='%(asctime)s - %(levelname)s - %(message)s')\n",
        "\n",
        "# Function to create a slide with the verse\n",
        "def add_verse_slide(prs, book_name, chapter, verse, text):\n",
        "    logging.debug(f\"Adding slide for {book_name} {chapter}:{verse}\")\n",
        "    slide_layout = prs.slide_layouts[5]  # Using a blank slide layout\n",
        "    slide = prs.slides.add_slide(slide_layout)\n",
        "\n",
        "    # Set background to navy blue\n",
        "    slide.background.fill.solid()\n",
        "    slide.background.fill.fore_color.rgb = RGBColor(0, 0, 128)  # Navy blue\n",
        "\n",
        "    # Add title with book name, chapter, and verse\n",
        "    title = slide.shapes.title or slide.shapes.add_textbox(Inches(0), Inches(0), Inches(10), Inches(1))\n",
        "    title_tf = title.text_frame\n",
        "    title_text = f\"{book_name} {chapter}:{verse}\"\n",
        "    title_tf.text = title_text\n",
        "\n",
        "    # Set title font and alignment\n",
        "    title_paragraph = title_tf.paragraphs[0]\n",
        "    title_paragraph.font.size = Pt(24)\n",
        "    title_paragraph.font.bold = True\n",
        "    title_paragraph.font.color.rgb = RGBColor(255, 255, 255)  # White text\n",
        "    title_tf.paragraphs[0].alignment = PP_ALIGN.CENTER\n",
        "\n",
        "    # Add verse text to slide\n",
        "    text_box = slide.shapes.add_textbox(Inches(0.5), Inches(1.5), Inches(9), Inches(5))\n",
        "    text_frame = text_box.text_frame\n",
        "    text_frame.word_wrap = True\n",
        "    p = text_frame.add_paragraph()\n",
        "    p.text = text\n",
        "\n",
        "    # Set text font and alignment\n",
        "    p.font.size = Pt(32)  # Larger font for verse text\n",
        "    p.font.color.rgb = RGBColor(255, 255, 255)  # White text\n",
        "    p.alignment = PP_ALIGN.CENTER\n",
        "\n",
        "# Function to process PDF and extract text\n",
        "def extract_text_from_pdf(pdf_file_path):\n",
        "    logging.debug(f\"Extracting text from {pdf_file_path}\")\n",
        "    try:\n",
        "        with open(pdf_file_path, 'rb') as file:\n",
        "            reader = PyPDF2.PdfReader(file)\n",
        "            text = \"\"\n",
        "            for page_num in range(len(reader.pages)):\n",
        "                logging.debug(f\"Extracting text from page {page_num + 1}\")\n",
        "                text += reader.pages[page_num].extract_text()\n",
        "            return text\n",
        "    except Exception as e:\n",
        "        logging.error(f\"Failed to extract text from PDF: {e}\")\n",
        "        return \"\"\n",
        "\n",
        "# Function to process extracted text into chapters and verses\n",
        "def process_scripture_text(text):\n",
        "    logging.debug(\"Processing scripture text to extract chapters and verses\")\n",
        "    # Regular expression to find chapter and verse numbers (assuming 'Chapter:Verse' format)\n",
        "    pattern = r\"(\\d+):(\\d+)\"  # Matching \"Chapter:Verse\"\n",
        "    scripture_dict = {}\n",
        "    current_chapter = None\n",
        "\n",
        "    for line in text.splitlines():\n",
        "        match = re.match(pattern, line)\n",
        "        if match:\n",
        "            current_chapter, verse = match.groups()\n",
        "            logging.debug(f\"Found chapter {current_chapter}, verse {verse}\")\n",
        "            scripture_dict[(current_chapter, verse)] = \"\"  # Initialize an empty string for the verse content\n",
        "        elif current_chapter:\n",
        "            scripture_dict[(current_chapter, verse)] += line.strip() + \" \"  # Append verse text\n",
        "    return scripture_dict\n",
        "\n",
        "# Main function to convert scripture PDF to PPTX\n",
        "def convert_pdf_to_pptx(pdf_file_path, pptx_file_path, book_name):\n",
        "    logging.debug(f\"Starting conversion of {pdf_file_path} to {pptx_file_path}\")\n",
        "\n",
        "    # Extract text from the PDF\n",
        "    text = extract_text_from_pdf(pdf_file_path)\n",
        "    if not text:\n",
        "        logging.error(\"No text extracted from the PDF.\")\n",
        "        return\n",
        "\n",
        "    # Process the extracted text into chapters and verses\n",
        "    verses_dict = process_scripture_text(text)\n",
        "    if not verses_dict:\n",
        "        logging.error(\"No chapters or verses found in the text.\")\n",
        "        return\n",
        "\n",
        "    # Create PowerPoint presentation\n",
        "    prs = Presentation()\n",
        "\n",
        "    # Add slides for each verse\n",
        "    for (chapter, verse), verse_text in verses_dict.items():\n",
        "        logging.debug(f\"Adding verse {chapter}:{verse}\")\n",
        "        add_verse_slide(prs, book_name, chapter, verse, verse_text)\n",
        "\n",
        "    # Save the PowerPoint presentation\n",
        "    logging.debug(f\"Saving presentation to {pptx_file_path}\")\n",
        "    prs.save(pptx_file_path)\n",
        "    logging.info(f\"Presentation saved successfully at {pptx_file_path}\")\n",
        "\n",
        "\n",
        "# Example usage\n",
        "pdf_file_path = 'Book_of_Enoch.pdf'  # Path to your scripture PDF file\n",
        "pptx_file_path = '1_Enoch.pptx'  # Output path for the PowerPoint\n",
        "book_name = '1 Enoch'  # Example book name\n",
        "\n",
        "convert_pdf_to_pptx(pdf_file_path, pptx_file_path, book_name)\n"
      ],
      "metadata": {
        "colab": {
          "base_uri": "https://localhost:8080/"
        },
        "id": "RSnV8ZkAkkMb",
        "outputId": "7eef4e5b-f1a7-4c20-d07b-3671e854c24d"
      },
      "execution_count": 4,
      "outputs": [
        {
          "output_type": "stream",
          "name": "stderr",
          "text": [
            "ERROR:root:No chapters or verses found in the text.\n"
          ]
        }
      ]
    }
  ]
}